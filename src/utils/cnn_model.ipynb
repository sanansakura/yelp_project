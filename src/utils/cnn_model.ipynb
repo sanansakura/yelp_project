{
  "nbformat": 4,
  "nbformat_minor": 0,
  "metadata": {
    "colab": {
      "name": "cnn_model.ipynb",
      "provenance": [],
      "collapsed_sections": [],
      "machine_shape": "hm"
    },
    "kernelspec": {
      "name": "python3",
      "display_name": "Python 3"
    },
    "accelerator": "GPU"
  },
  "cells": [
    {
      "cell_type": "code",
      "metadata": {
        "id": "bzHpejQh-RsZ",
        "colab_type": "code",
        "colab": {}
      },
      "source": [
        "from google.colab import drive\n"
      ],
      "execution_count": 0,
      "outputs": []
    },
    {
      "cell_type": "code",
      "metadata": {
        "id": "kVSlQbm_Fpy-",
        "colab_type": "code",
        "outputId": "401b9e7a-ce44-4a3d-d73c-4ddb2ac82e29",
        "colab": {
          "base_uri": "https://localhost:8080/",
          "height": 34
        }
      },
      "source": [
        "drive.mount('/content/gdrive')"
      ],
      "execution_count": 0,
      "outputs": [
        {
          "output_type": "stream",
          "text": [
            "Drive already mounted at /content/gdrive; to attempt to forcibly remount, call drive.mount(\"/content/gdrive\", force_remount=True).\n"
          ],
          "name": "stdout"
        }
      ]
    },
    {
      "cell_type": "code",
      "metadata": {
        "id": "d9Gp55Qe-hI5",
        "colab_type": "code",
        "outputId": "cf982cd3-5054-470e-b022-366e3c44b24b",
        "colab": {
          "base_uri": "https://localhost:8080/",
          "height": 34
        }
      },
      "source": [
        "from sklearn.model_selection import train_test_split\n",
        "import keras\n",
        "from keras import backend\n",
        "from keras.models import Sequential\n",
        "from keras.layers import Conv2D, MaxPooling2D, Dense, Flatten, Dropout\n",
        "import os\n",
        "import numpy as np\n",
        "from sklearn.linear_model import LogisticRegression\n",
        "from sklearn import svm\n",
        "from keras.applications.mobilenet_v2 import MobileNetV2\n",
        "from keras import optimizers\n",
        "from keras.preprocessing.image import ImageDataGenerator\n",
        "from keras.applications.mobilenet_v2 import preprocess_input\n",
        "from keras.metrics import top_k_categorical_accuracy\n",
        "from sklearn.decomposition import PCA\n",
        "from sklearn import preprocessing\n",
        "from sklearn.tree import DecisionTreeClassifier\n",
        "from sklearn import linear_model\n",
        "from keras.regularizers import l2, l1"
      ],
      "execution_count": 0,
      "outputs": [
        {
          "output_type": "stream",
          "text": [
            "Using TensorFlow backend.\n"
          ],
          "name": "stderr"
        }
      ]
    },
    {
      "cell_type": "code",
      "metadata": {
        "id": "hV4bT91gZtaw",
        "colab_type": "code",
        "outputId": "1a23fa45-0701-41a6-cd13-16cd1a71eb3a",
        "colab": {
          "base_uri": "https://localhost:8080/",
          "height": 34
        }
      },
      "source": [
        "from google.colab import drive\n",
        "drive.mount('/content/drive')"
      ],
      "execution_count": 0,
      "outputs": [
        {
          "output_type": "stream",
          "text": [
            "Mounted at /content/drive\n"
          ],
          "name": "stdout"
        }
      ]
    },
    {
      "cell_type": "code",
      "metadata": {
        "id": "Y5jpAo8-yNFm",
        "colab_type": "code",
        "outputId": "5534dce9-0158-4263-e283-f4004099abee",
        "colab": {
          "base_uri": "https://localhost:8080/",
          "height": 34
        }
      },
      "source": [
        "!ls"
      ],
      "execution_count": 0,
      "outputs": [
        {
          "output_type": "stream",
          "text": [
            "gdrive\tsample_data\n"
          ],
          "name": "stdout"
        }
      ]
    },
    {
      "cell_type": "code",
      "metadata": {
        "id": "wE81aWsHkd4p",
        "colab_type": "code",
        "colab": {}
      },
      "source": [
        "from sklearn.linear_model import LogisticRegression\n",
        "from sklearn import svm\n",
        "from keras.applications.mobilenet_v2 import MobileNetV2"
      ],
      "execution_count": 0,
      "outputs": []
    },
    {
      "cell_type": "code",
      "metadata": {
        "id": "4nX58nde-l8G",
        "colab_type": "code",
        "colab": {}
      },
      "source": [
        "def cnn_model(input_shape, num_classes):\n",
        "    model = Sequential()\n",
        "    model.add(Conv2D(16, kernel_size=(2, 2), strides=(1, 1),\n",
        "                 activation='relu',\n",
        "                 input_shape=input_shape))\n",
        "    model.add(MaxPooling2D(pool_size=(2, 2), strides=(1, 1)))\n",
        "    model.add(Conv2D(8, kernel_size=(2, 2), strides=(1, 1),\n",
        "                 activation='relu'))\n",
        "    model.add(MaxPooling2D(pool_size=(2, 2), strides=(1, 1)))\n",
        "    model.add(Flatten())\n",
        "    \n",
        "    model.add(Dense(1024, activation='relu'))\n",
        "    model.add(Dropout(0.5))\n",
        "    model.add(Dense(num_classes, activation='softmax'))\n",
        "    model.compile(optimizer='adam', loss='categorical_crossentropy', metrics=['accuracy'])\n",
        "    return model\n"
      ],
      "execution_count": 0,
      "outputs": []
    },
    {
      "cell_type": "code",
      "metadata": {
        "id": "4V1EVdL3J0u3",
        "colab_type": "code",
        "colab": {}
      },
      "source": [
        "def main(X, y):\n",
        "  \n",
        "    X_train, X_valid, y_train, y_valid = train_test_split(X, y, test_size=0.1, random_state=42)\n",
        "    model = cnn_model((64, 64,3), 337)\n",
        "    model.fit(X_train, y_train, verbose=1,shuffle=True, validation_data=(X_valid, y_valid), epochs=64)"
      ],
      "execution_count": 0,
      "outputs": []
    },
    {
      "cell_type": "code",
      "metadata": {
        "colab_type": "code",
        "id": "B_z9oBaqkeg9",
        "colab": {}
      },
      "source": [
        "def main_lr(X, y):\n",
        "  \n",
        "    X_train, X_valid, y_train, y_valid = train_test_split(X, y, test_size=0.1, random_state=42)\n",
        "    X_train,X_valid = X_train.reshape(X_train.shape[0], 32*32*3), X_valid.reshape(X_valid.shape[0], 32*32*3)\n",
        "    model = LogisticRegression(random_state=0, solver='sag', multi_class='multinomial').fit(X_train, y_train)\n",
        "    model.score(X_valid, y_valid)"
      ],
      "execution_count": 0,
      "outputs": []
    },
    {
      "cell_type": "code",
      "metadata": {
        "id": "fgB4gLV4p8Ib",
        "colab_type": "code",
        "colab": {}
      },
      "source": [
        "def main_svm(X,y):\n",
        "  X_train, X_valid, y_train, y_valid = train_test_split(X, y, test_size=0.1, random_state=42)\n",
        "  model = svm.SVC(gamma='scale', decision_function_shape='ovo')\n",
        "  model.fit(X_train, y_train)\n",
        "  model.score(X_valid, y_valid)"
      ],
      "execution_count": 0,
      "outputs": []
    },
    {
      "cell_type": "code",
      "metadata": {
        "id": "HNjkvX_3sIBJ",
        "colab_type": "code",
        "colab": {}
      },
      "source": [
        "def main_mobilenet(Xtrain, ytrain, Xvalid, yvalid, train_batch_size = 1000, valid_batch_size = 1000):\n",
        "    train_datagen = ImageDataGenerator(\n",
        "          width_shift_range=0.2,\n",
        "          height_shift_range=0.2,\n",
        "          shear_range=0.2,\n",
        "          zoom_range=0.2,\n",
        "          horizontal_flip=True,\n",
        "          fill_mode='nearest',\n",
        "          preprocessing_function = preprocess_input)\n",
        "    train_generator = train_datagen.flow(x = Xtrain, y = ytrain,\n",
        "                batch_size = train_batch_size,\\\n",
        "                shuffle = False\n",
        "                )\n",
        "    valid_datagen = ImageDataGenerator(\n",
        "                preprocessing_function = preprocess_input)\n",
        "    valid_generator = valid_datagen.flow(x = Xvalid, y = yvalid,\n",
        "                batch_size = valid_batch_size,\\\n",
        "                shuffle = False\n",
        "                )\n",
        "    mobilenet = MobileNetV2(weights='imagenet', include_top=False, input_shape=(64, 64, 3))\n",
        "    for layer in mobilenet.layers[:]:\n",
        "        layer.trainable = True\n",
        "    model = Sequential()\n",
        "    model.add(mobilenet)\n",
        "    model.add(Flatten())\n",
        "    model.add(Dense(640, activation=\"relu\"))\n",
        "    model.add(Dropout(0.2))\n",
        "    model.add(Dense(150, activation=\"relu\"))\n",
        "    model.add(Dense(15, kernel_regularizer=l2(0.01),\n",
        "                activity_regularizer=l1(0.01), activation=\"softmax\"))\n",
        "    model.compile(loss='categorical_crossentropy',\n",
        "              optimizer=optimizers.RMSprop(lr=1e-4),\n",
        "              metrics=[top_k_categorical_accuracy])\n",
        "    history = model.fit_generator(\n",
        "      train_generator,\n",
        "      steps_per_epoch=np.ceil(Xtrain.shape[0]/train_batch_size) ,\n",
        "      epochs=30,\n",
        "      validation_data=valid_generator,\n",
        "      validation_steps=np.ceil(Xvalid.shape[0]/valid_batch_size),\n",
        "      verbose=1)\n",
        "    return model\n",
        "    \n",
        "  \n",
        "  "
      ],
      "execution_count": 0,
      "outputs": []
    },
    {
      "cell_type": "code",
      "metadata": {
        "id": "i_VwiaSoMHHm",
        "colab_type": "code",
        "colab": {}
      },
      "source": [
        "def main_encode_mobilenet(Xtrain, ytrain):\n",
        "    train_datagen = ImageDataGenerator(rotation_range=40,\n",
        "          width_shift_range=0.2,\n",
        "          height_shift_range=0.2,\n",
        "          shear_range=0.2,\n",
        "          zoom_range=0.2,\n",
        "          horizontal_flip=True,\n",
        "          fill_mode='nearest',\n",
        "          preprocessing_function = preprocess_input)\n",
        "    train_generator = train_datagen.flow(x = Xtrain,\n",
        "                batch_size = 128,\\\n",
        "                shuffle = False\n",
        "                )\n",
        "    mobilenet = MobileNetV2(weights='imagenet', include_top=False, input_shape=(64, 64, 3))\n",
        "    encoded = mobilenet.predict_generator(\n",
        "      train_generator,\n",
        "      steps=np.ceil(Xtrain.shape[0]/128) ,\n",
        "      verbose=1)\n",
        "    return encoded\n",
        "    \n",
        "  "
      ],
      "execution_count": 0,
      "outputs": []
    },
    {
      "cell_type": "code",
      "metadata": {
        "id": "8DaXr0CSBAR1",
        "colab_type": "code",
        "colab": {}
      },
      "source": [
        "from sklearn.preprocessing import LabelBinarizer\n",
        "\n",
        "def one_hot_encoding(y):\n",
        "    '''\n",
        "    Convert labels y to one hot encoding.\n",
        "    '''\n",
        "    label_binarizer = LabelBinarizer()\n",
        "    y_one_hot = label_binarizer.fit_transform(y)\n",
        "    return y_one_hot"
      ],
      "execution_count": 0,
      "outputs": []
    },
    {
      "cell_type": "code",
      "metadata": {
        "id": "jc21eswRJ1YB",
        "colab_type": "code",
        "outputId": "faadc5e7-cc80-44fa-a42d-91ab6efc43d6",
        "colab": {
          "base_uri": "https://localhost:8080/",
          "height": 34
        }
      },
      "source": [
        "path_train_data = \"/content/gdrive/My Drive/yelp_project/groupped_train_food101.npz\"\n",
        "train_data = np.load(path_train_data)\n",
        "X, y = train_data[\"arr_0\"], train_data[\"arr_1\"]\n",
        "\n",
        "path_test_data = \"/content/gdrive/My Drive/yelp_project/groupped_test_food101.npz\"\n",
        "test_data = np.load(path_test_data)\n",
        "X_test, y_test = test_data[\"arr_0\"], test_data[\"arr_1\"]\n",
        "\n",
        "print(X.shape, y.shape)\n",
        "\n",
        "\n",
        "\n"
      ],
      "execution_count": 0,
      "outputs": [
        {
          "output_type": "stream",
          "text": [
            "(75747, 64, 64, 3) (75747,)\n"
          ],
          "name": "stdout"
        }
      ]
    },
    {
      "cell_type": "code",
      "metadata": {
        "id": "b9FXKyEvh1DO",
        "colab_type": "code",
        "colab": {}
      },
      "source": [
        "y, y_test = one_hot_encoding(y), one_hot_encoding(y_test)"
      ],
      "execution_count": 0,
      "outputs": []
    },
    {
      "cell_type": "code",
      "metadata": {
        "id": "IpIJeVzOiTmv",
        "colab_type": "code",
        "outputId": "5adaedd4-7f28-492a-8611-84545f446231",
        "colab": {
          "base_uri": "https://localhost:8080/",
          "height": 34
        }
      },
      "source": [
        "X.shape"
      ],
      "execution_count": 0,
      "outputs": [
        {
          "output_type": "execute_result",
          "data": {
            "text/plain": [
              "(7499, 64, 64, 3)"
            ]
          },
          "metadata": {
            "tags": []
          },
          "execution_count": 41
        }
      ]
    },
    {
      "cell_type": "code",
      "metadata": {
        "id": "cTmQaUZ0gYu5",
        "colab_type": "code",
        "outputId": "39d9416c-b5da-40c0-fd7d-dce8001abd7d",
        "colab": {
          "base_uri": "https://localhost:8080/",
          "height": 1000
        }
      },
      "source": [
        "model = main_mobilenet(X, y, X_test, y_test)"
      ],
      "execution_count": 0,
      "outputs": [
        {
          "output_type": "stream",
          "text": [
            "/usr/local/lib/python3.6/dist-packages/keras_applications/mobilenet_v2.py:294: UserWarning: `input_shape` is undefined or non-square, or `rows` is not in [96, 128, 160, 192, 224]. Weights for input shape (224, 224) will be loaded as the default.\n",
            "  warnings.warn('`input_shape` is undefined or non-square, '\n"
          ],
          "name": "stderr"
        },
        {
          "output_type": "stream",
          "text": [
            "Epoch 1/30\n",
            "76/76 [==============================] - 74s 969ms/step - loss: 13.0494 - top_k_categorical_accuracy: 0.4719 - val_loss: 12.7566 - val_top_k_categorical_accuracy: 0.5447\n",
            "Epoch 2/30\n",
            "76/76 [==============================] - 65s 851ms/step - loss: 12.8436 - top_k_categorical_accuracy: 0.5082 - val_loss: 12.6545 - val_top_k_categorical_accuracy: 0.5815\n",
            "Epoch 3/30\n",
            "76/76 [==============================] - 66s 868ms/step - loss: 12.7864 - top_k_categorical_accuracy: 0.5371 - val_loss: 12.7401 - val_top_k_categorical_accuracy: 0.5833\n",
            "Epoch 4/30\n",
            "76/76 [==============================] - 66s 874ms/step - loss: 12.7833 - top_k_categorical_accuracy: 0.5423 - val_loss: 12.6739 - val_top_k_categorical_accuracy: 0.6098\n",
            "Epoch 5/30\n",
            "76/76 [==============================] - 66s 870ms/step - loss: 12.7401 - top_k_categorical_accuracy: 0.5434 - val_loss: 12.7107 - val_top_k_categorical_accuracy: 0.6132\n",
            "Epoch 6/30\n",
            "76/76 [==============================] - 66s 875ms/step - loss: 12.7170 - top_k_categorical_accuracy: 0.5612 - val_loss: 12.6672 - val_top_k_categorical_accuracy: 0.6172\n",
            "Epoch 7/30\n",
            "76/76 [==============================] - 66s 863ms/step - loss: 12.7014 - top_k_categorical_accuracy: 0.5536 - val_loss: 12.6804 - val_top_k_categorical_accuracy: 0.6279\n",
            "Epoch 8/30\n",
            "76/76 [==============================] - 65s 862ms/step - loss: 12.6818 - top_k_categorical_accuracy: 0.5513 - val_loss: 12.6417 - val_top_k_categorical_accuracy: 0.6442\n",
            "Epoch 9/30\n",
            "76/76 [==============================] - 65s 854ms/step - loss: 12.6494 - top_k_categorical_accuracy: 0.5662 - val_loss: 12.6327 - val_top_k_categorical_accuracy: 0.6436\n",
            "Epoch 10/30\n",
            "76/76 [==============================] - 65s 861ms/step - loss: 12.6333 - top_k_categorical_accuracy: 0.5631 - val_loss: 12.6674 - val_top_k_categorical_accuracy: 0.6477\n",
            "Epoch 11/30\n",
            "76/76 [==============================] - 66s 872ms/step - loss: 12.6085 - top_k_categorical_accuracy: 0.5753 - val_loss: 12.6596 - val_top_k_categorical_accuracy: 0.6441\n",
            "Epoch 12/30\n",
            "76/76 [==============================] - 65s 859ms/step - loss: 12.6049 - top_k_categorical_accuracy: 0.5800 - val_loss: 12.6246 - val_top_k_categorical_accuracy: 0.6427\n",
            "Epoch 13/30\n",
            "76/76 [==============================] - 66s 862ms/step - loss: 12.5778 - top_k_categorical_accuracy: 0.5896 - val_loss: 12.6089 - val_top_k_categorical_accuracy: 0.6445\n",
            "Epoch 14/30\n",
            "76/76 [==============================] - 65s 859ms/step - loss: 12.5380 - top_k_categorical_accuracy: 0.5790 - val_loss: 12.6733 - val_top_k_categorical_accuracy: 0.6443\n",
            "Epoch 15/30\n",
            "76/76 [==============================] - 66s 868ms/step - loss: 12.5175 - top_k_categorical_accuracy: 0.5942 - val_loss: 12.6200 - val_top_k_categorical_accuracy: 0.6638\n",
            "Epoch 16/30\n",
            "76/76 [==============================] - 65s 859ms/step - loss: 12.4777 - top_k_categorical_accuracy: 0.6051 - val_loss: 12.9590 - val_top_k_categorical_accuracy: 0.6585\n",
            "Epoch 17/30\n",
            "76/76 [==============================] - 66s 872ms/step - loss: 12.4865 - top_k_categorical_accuracy: 0.6005 - val_loss: 12.5668 - val_top_k_categorical_accuracy: 0.6713\n",
            "Epoch 18/30\n",
            "76/76 [==============================] - 68s 890ms/step - loss: 12.4433 - top_k_categorical_accuracy: 0.6089 - val_loss: 12.5383 - val_top_k_categorical_accuracy: 0.6687\n",
            "Epoch 19/30\n",
            "76/76 [==============================] - 66s 865ms/step - loss: 12.4135 - top_k_categorical_accuracy: 0.6194 - val_loss: 12.5154 - val_top_k_categorical_accuracy: 0.6663\n",
            "Epoch 20/30\n",
            "76/76 [==============================] - 66s 867ms/step - loss: 12.3549 - top_k_categorical_accuracy: 0.6323 - val_loss: 12.4809 - val_top_k_categorical_accuracy: 0.6735\n",
            "Epoch 21/30\n",
            "76/76 [==============================] - 69s 912ms/step - loss: 12.3545 - top_k_categorical_accuracy: 0.6426 - val_loss: 12.3892 - val_top_k_categorical_accuracy: 0.6806\n",
            "Epoch 22/30\n",
            "76/76 [==============================] - 66s 872ms/step - loss: 12.3248 - top_k_categorical_accuracy: 0.6350 - val_loss: 12.4081 - val_top_k_categorical_accuracy: 0.6908\n",
            "Epoch 23/30\n",
            "76/76 [==============================] - 65s 858ms/step - loss: 12.3287 - top_k_categorical_accuracy: 0.6468 - val_loss: 12.3264 - val_top_k_categorical_accuracy: 0.6958\n",
            "Epoch 24/30\n",
            "76/76 [==============================] - 65s 857ms/step - loss: 12.2953 - top_k_categorical_accuracy: 0.6593 - val_loss: 12.4098 - val_top_k_categorical_accuracy: 0.6966\n",
            "Epoch 25/30\n",
            "76/76 [==============================] - 66s 863ms/step - loss: 12.2928 - top_k_categorical_accuracy: 0.6544 - val_loss: 12.4085 - val_top_k_categorical_accuracy: 0.6958\n",
            "Epoch 26/30\n",
            "76/76 [==============================] - 66s 873ms/step - loss: 12.2436 - top_k_categorical_accuracy: 0.6729 - val_loss: 12.3467 - val_top_k_categorical_accuracy: 0.6964\n",
            "Epoch 27/30\n",
            "76/76 [==============================] - 66s 874ms/step - loss: 12.2306 - top_k_categorical_accuracy: 0.6818 - val_loss: 12.3856 - val_top_k_categorical_accuracy: 0.6892\n",
            "Epoch 28/30\n",
            "76/76 [==============================] - 66s 865ms/step - loss: 12.2147 - top_k_categorical_accuracy: 0.6860 - val_loss: 12.3470 - val_top_k_categorical_accuracy: 0.6865\n",
            "Epoch 29/30\n",
            "76/76 [==============================] - 66s 865ms/step - loss: 12.1728 - top_k_categorical_accuracy: 0.6761 - val_loss: 12.3321 - val_top_k_categorical_accuracy: 0.6879\n",
            "Epoch 30/30\n",
            "76/76 [==============================] - 67s 884ms/step - loss: 12.1814 - top_k_categorical_accuracy: 0.6962 - val_loss: 12.3754 - val_top_k_categorical_accuracy: 0.6811\n"
          ],
          "name": "stdout"
        }
      ]
    },
    {
      "cell_type": "code",
      "metadata": {
        "id": "Zmvj91SqxOCN",
        "colab_type": "code",
        "outputId": "35be7a66-cc7d-4fec-df6a-169484f333b9",
        "colab": {
          "base_uri": "https://localhost:8080/",
          "height": 34
        }
      },
      "source": [
        "encoded.shape"
      ],
      "execution_count": 0,
      "outputs": [
        {
          "output_type": "execute_result",
          "data": {
            "text/plain": [
              "(100997, 2, 2, 1280)"
            ]
          },
          "metadata": {
            "tags": []
          },
          "execution_count": 15
        }
      ]
    },
    {
      "cell_type": "code",
      "metadata": {
        "id": "Jvz-6fHLXMVY",
        "colab_type": "code",
        "colab": {}
      },
      "source": [
        "model.save(\"model.h5\")"
      ],
      "execution_count": 0,
      "outputs": []
    },
    {
      "cell_type": "code",
      "metadata": {
        "id": "wc5IlylEX4Mr",
        "colab_type": "code",
        "colab": {}
      },
      "source": [
        "from keras.models import load_model\n",
        "from matplotlib import pyplot\n",
        "\n",
        "model_1 = load_model(\"/content/gdrive/My Drive/yelp_project/model.h5\")"
      ],
      "execution_count": 0,
      "outputs": []
    },
    {
      "cell_type": "code",
      "metadata": {
        "id": "E-jJ4sCDYCRs",
        "colab_type": "code",
        "outputId": "1097f9df-2c5a-40ac-eb97-9db536046352",
        "colab": {
          "base_uri": "https://localhost:8080/",
          "height": 85
        }
      },
      "source": [
        "image = X[1, :, :, :]\n",
        "model_1.predict(np.expand_dims(image, axis=0))"
      ],
      "execution_count": 0,
      "outputs": [
        {
          "output_type": "execute_result",
          "data": {
            "text/plain": [
              "array([[0.00466723, 0.02816449, 0.4983326 , 0.01367121, 0.07252035,\n",
              "        0.03238272, 0.0070372 , 0.01013172, 0.03773452, 0.00616696,\n",
              "        0.02515748, 0.03266957, 0.10978059, 0.05639118, 0.06519213]],\n",
              "      dtype=float32)"
            ]
          },
          "metadata": {
            "tags": []
          },
          "execution_count": 25
        }
      ]
    },
    {
      "cell_type": "markdown",
      "metadata": {
        "id": "A28yGsYoZimN",
        "colab_type": "text"
      },
      "source": [
        ""
      ]
    },
    {
      "cell_type": "code",
      "metadata": {
        "id": "rVLZ_bQTY82u",
        "colab_type": "code",
        "outputId": "63fda1f6-b462-4513-c4f2-e559761c369e",
        "colab": {
          "base_uri": "https://localhost:8080/",
          "height": 269
        }
      },
      "source": [
        "pyplot.imshow(image)\n",
        "pyplot.show()"
      ],
      "execution_count": 0,
      "outputs": [
        {
          "output_type": "display_data",
          "data": {
            "image/png": "[encoded data removed]",
            "text/plain": [
              "<Figure size 432x288 with 1 Axes>"
            ]
          },
          "metadata": {
            "tags": []
          }
        }
      ]
    },
    {
      "cell_type": "markdown",
      "metadata": {
        "id": "MpSdeDHBOc27",
        "colab_type": "text"
      },
      "source": [
        ""
      ]
    },
    {
      "cell_type": "code",
      "metadata": {
        "id": "ARwuSC8Fxanw",
        "colab_type": "code",
        "colab": {}
      },
      "source": [
        "np.savez_compressed(\"encoded.npz\", encoded)"
      ],
      "execution_count": 0,
      "outputs": []
    },
    {
      "cell_type": "code",
      "metadata": {
        "id": "G-LBe0icy_kt",
        "colab_type": "code",
        "outputId": "f9dd4663-7267-46e7-d999-3788f54c9918",
        "colab": {
          "base_uri": "https://localhost:8080/",
          "height": 173
        }
      },
      "source": [
        "path_data = \"/content/gdrive/My Drive/yelp_project/food101.npz\"\n",
        "data = np.load(path_data)\n",
        "X, y = data[\"arr_0\"], data[\"arr_1\"]\n",
        "\n",
        "encoded = np.load(\"/content/gdrive/My Drive/yelp_project/encoded.npz\")[\"arr_0\"]\n",
        "\n",
        "encoded = encoded.reshape(encoded.shape[0], 2*2*1280)\n",
        "X_train, X_valid, y_train, y_valid = train_test_split(encoded, y, test_size=0.1, random_state=42)\n",
        "#pca = PCA(n_components=100)\n",
        "#pca.fit(X_train)\n",
        "#X_train = pca.transform(X_train)\n",
        "#X_valid = pca.transform(X_valid)\n",
        "#print(X_train.shape)\n",
        "#print(X_valid.shape)\n",
        "X_train,X_valid = preprocessing.scale(X_train), preprocessing.scale(X_valid)\n",
        "#model = LogisticRegression(random_state=0, solver='sag', multi_class='multinomial').fit(X_train, y_train)\n",
        "#model.score(X_valid, y_valid)\n",
        "#model = svm.SVC(gamma='scale', decision_function_shape='ovr')\n",
        "#model.fit(X_train, y_train)\n",
        "#model.score(X_valid, y_valid)\n",
        "model = linear_model.SGDClassifier(max_iter=1000, tol=1e-3)\n",
        "model.fit(X_train, y_train)"
      ],
      "execution_count": 0,
      "outputs": [
        {
          "output_type": "stream",
          "text": [
            "/usr/local/lib/python3.6/dist-packages/sklearn/preprocessing/data.py:172: UserWarning: Numerical issues were encountered when centering the data and might not be solved. Dataset may contain too large values. You may need to prescale your features.\n",
            "  warnings.warn(\"Numerical issues were encountered \"\n",
            "/usr/local/lib/python3.6/dist-packages/sklearn/preprocessing/data.py:189: UserWarning: Numerical issues were encountered when scaling the data and might not be solved. The standard deviation of the data is probably very close to 0. \n",
            "  warnings.warn(\"Numerical issues were encountered \"\n",
            "/usr/local/lib/python3.6/dist-packages/sklearn/preprocessing/data.py:172: UserWarning: Numerical issues were encountered when centering the data and might not be solved. Dataset may contain too large values. You may need to prescale your features.\n",
            "  warnings.warn(\"Numerical issues were encountered \"\n",
            "/usr/local/lib/python3.6/dist-packages/sklearn/preprocessing/data.py:189: UserWarning: Numerical issues were encountered when scaling the data and might not be solved. The standard deviation of the data is probably very close to 0. \n",
            "  warnings.warn(\"Numerical issues were encountered \"\n"
          ],
          "name": "stderr"
        }
      ]
    },
    {
      "cell_type": "code",
      "metadata": {
        "id": "HrCOdx5FdNLU",
        "colab_type": "code",
        "outputId": "2f392e50-27e1-4fe5-ed65-858665cb3dd6",
        "colab": {
          "base_uri": "https://localhost:8080/",
          "height": 34
        }
      },
      "source": [
        "model.score(X_valid, y_valid)"
      ],
      "execution_count": 0,
      "outputs": [
        {
          "output_type": "execute_result",
          "data": {
            "text/plain": [
              "0.05297029702970297"
            ]
          },
          "metadata": {
            "tags": []
          },
          "execution_count": 17
        }
      ]
    },
    {
      "cell_type": "code",
      "metadata": {
        "colab_type": "code",
        "id": "aK2FlD-2HQKo",
        "colab": {}
      },
      "source": [
        "def main_nasnet(Xtrain, ytrain):\n",
        "    train_datagen = ImageDataGenerator(\n",
        "                shear_range = 0.2, \\\n",
        "                zoom_range = 0.2, \\\n",
        "                preprocessing_function = preprocess_input,\\\n",
        "                horizontal_flip = True)\n",
        "    train_generator = train_datagen.flow(x = Xtrain,\n",
        "                batch_size = 128,\\\n",
        "                shuffle = False\n",
        "                )\n",
        "    nasnet = NASNetMobile(input_shape = (64,64,3), include_top=False, weights='imagenet')\n",
        "    encoded = nasnet.predict_generator(\n",
        "      train_generator,\n",
        "      steps=np.ceil(Xtrain.shape[0]/128) ,\n",
        "      verbose=1)\n",
        "    return encoded\n",
        "    \n",
        "  "
      ],
      "execution_count": 0,
      "outputs": []
    }
  ]
}